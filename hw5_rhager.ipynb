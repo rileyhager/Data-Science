{
 "cells": [
  {
   "cell_type": "markdown",
   "metadata": {},
   "source": [
    "# Homework 5: Investigating Classification 🔬"
   ]
  },
  {
   "cell_type": "markdown",
   "metadata": {},
   "source": [
    "Name: Riley Hager\n",
    "\n",
    "Student ID: 455336\n",
    "Received help from TA's at Sunday TA hours (3/3) and Monday TA hours (3/4).\n",
    "\n",
    "Collaborated with: Katherine Laue (454984) and Evan Molyneaux (457888)\n",
    "Gave advice to: Giorgio Gutilla (I do not know if this is the correct spelling/I also do not know his ID number. I "
   ]
  },
  {
   "cell_type": "markdown",
   "metadata": {},
   "source": [
    "## Instructions\n",
    "\n",
    "For this homework, work through **Lab 5 (Detecting Breast Cancer using Logistic Regression)** first. Most of the things we ask you to do in this homework are explained in the lab. In general, you should feel free to import any package that we have previously used in class.\n",
    "\n",
    "### Submission instructions\n",
    "* Submit this python notebook including your answers in the code cells as homework submission.\n",
    "* **Do not change the number of cells!** Your submission notebook should have exactly one code cell per problem. \n",
    "* Do **not** remove the `# your code here` line and add your solution **after** that line. "
   ]
  },
  {
   "cell_type": "markdown",
   "metadata": {},
   "source": [
    "## 1. Studying Confusion Matrices\n",
    "\n",
    "In the lab, we implemented Logistic Regression as described and formulated in class. In this series of problems, we will first review the model and practice building one with `sklearn`, and then, once we are comfortable with the model itself, we will use it to investigate the confusion matrices we introduced in the lab."
   ]
  },
  {
   "cell_type": "markdown",
   "metadata": {},
   "source": [
    "Before we begin, we will need to prepare our data. In this assignment, we will once again use the Breast Cancer Dataset that we were introduced to in the lab."
   ]
  },
  {
   "cell_type": "code",
   "execution_count": 303,
   "metadata": {},
   "outputs": [],
   "source": [
    "from sklearn.datasets import load_breast_cancer\n",
    "\n",
    "data = load_breast_cancer()\n",
    "X, y = data.data, data.target\n"
   ]
  },
  {
   "cell_type": "markdown",
   "metadata": {},
   "source": [
    "### Training and Fitting the Model\n",
    "\n",
    "Let's briefly go over how to create and fit a Logistic Regression model with `sklearn`. This process is very similar to the one we used to build Linear Regression models in homework 4."
   ]
  },
  {
   "cell_type": "markdown",
   "metadata": {},
   "source": [
    "### Problem 1\n",
    "\n",
    "First, we will begin by creating training and test sets with which we will build and evaluate our model with. Then, we will create a new instance of a `LogisticRegression` model and fit it with our training set.\n",
    "\n",
    "**Try this!** In the following cell, you should do the following:\n",
    "1. Creates a train/test split with `train_test_split` with a `test_size` of 0.3, stratification by `y` with `stratify`, and a `random_state` of 4.\n",
    "2. Creates a new `LogisticRegression` model with the `'liblinear'` `solver` and `fit` it with the training set.\n",
    "3. Evaluate the performance by manually computing and printing the classification _accuracy_ of your trained model on the test set.\n",
    "\n",
    "> Hint: Feel free to refer to any official documentation and remember that you can easily view the documentation in your notebook for any function or object by adding a `?` after its name (eg. `train_test_split?`)."
   ]
  },
  {
   "cell_type": "code",
   "execution_count": 304,
   "metadata": {},
   "outputs": [
    {
     "name": "stdout",
     "output_type": "stream",
     "text": [
      "0.9473684210526315\n"
     ]
    }
   ],
   "source": [
    "from sklearn.model_selection import train_test_split\n",
    "from sklearn.linear_model import LogisticRegression\n",
    "import numpy as np \n",
    "\n",
    "# your code here\n",
    "X_train, X_test, y_train, y_test = train_test_split(X, y, test_size=0.3, stratify=y, random_state=4)\n",
    "model = LogisticRegression(solver='liblinear')\n",
    "model.fit(X_train, y_train)\n",
    "print(model.score(X_test, y_test))"
   ]
  },
  {
   "cell_type": "markdown",
   "metadata": {},
   "source": [
    "### Problem 2\n",
    "\n",
    "**Write-up!** Why do we use `stratify` when creating our training and testing sets for this dataset? How would our evaluation of the model be affected if we did not use `stratify`? `HINT` Review the discussion of `stratify` from Lab 5."
   ]
  },
  {
   "cell_type": "raw",
   "metadata": {},
   "source": [
    "# your response here\n",
    "“Stratify=y” gets the same class distribution in the training and testing sets. If we didn't use stratify, our data set would not have a balanced class distribution."
   ]
  },
  {
   "cell_type": "markdown",
   "metadata": {},
   "source": [
    "### Reviewing Confusion Matrices\n",
    "\n",
    "In the lab, we introduced the idea that there are several distinct types of mistakes, or errors, that a classifier can make: false positives and false negatives. We also looked into how we can interpret the performance of our classifier at a deeper level using a confusion matrix."
   ]
  },
  {
   "cell_type": "markdown",
   "metadata": {},
   "source": [
    "### Problem 3\n",
    "\n",
    "**Write-up!** What are false positives and false negatives and why do we care to distinguish between them when they are both errors made by our classifier model? In the context of classifying tumors as either malignant or benign, does it make sense to prefer one type of mistake over the other? If so, which one and why? If not, also explain why?"
   ]
  },
  {
   "cell_type": "raw",
   "metadata": {},
   "source": [
    "# your response here\n",
    "False positives are results classified as \"positive\" that should actually be described as \"negative.\" False negatives are results classified as \"negative\" that should actually be described as \"positive.\" In the context of classifying tumors as either malignant or benign, it makes sense to prefer a false positive mistake over a false negative mistake, because a false positive mistake classifies a benign tumor as a malignant one, which just adds unnecessary treatment, while a false negative classifies a malignant tumor as a benign one, which could result in a more dangerous situation for the patient in which their cancer is not being identified and treated."
   ]
  },
  {
   "cell_type": "markdown",
   "metadata": {},
   "source": [
    "### Problem 4\n",
    "\n",
    "As shown in Lab 5, we can use a [confusion matrix](https://en.wikipedia.org/wiki/Confusion_matrix) to summarize and visualize the performance of our classifier.\n",
    "\n",
    "**Try this!** In the following cell, use `confusion_matrix` from `sklearn.metrics` to compute the confusion matrix for the model you built in [Problem 1](#Problem-1). Then, use `plot_confusion_matrix` to visualize the matrix (you will need to specify the `labels` to use). `HINT` Again, feel free to refer to any official documentation and remember that you can easily view the documentation for a function or object by adding a `?` after its name (eg. `confusion_matrix?`)."
   ]
  },
  {
   "cell_type": "code",
   "execution_count": 305,
   "metadata": {},
   "outputs": [
    {
     "data": {
      "text/plain": [
       "<matplotlib.axes._subplots.AxesSubplot at 0x1a201ced30>"
      ]
     },
     "execution_count": 305,
     "metadata": {},
     "output_type": "execute_result"
    },
    {
     "data": {
      "image/png": "[encoded data removed]",
      "text/plain": [
       "<Figure size 1152x648 with 1 Axes>"
      ]
     },
     "metadata": {
      "needs_background": "light"
     },
     "output_type": "display_data"
    }
   ],
   "source": [
    "from sklearn.metrics import confusion_matrix\n",
    "from utility.util import plot_confusion_matrix\n",
    "\n",
    "# your code here\n",
    "w = model.fit(X_train, y_train)\n",
    "y_prediction = model.predict(X_test)\n",
    "classes = [0, 1]\n",
    "class_names = ['malignant (+1)', 'benign (-1)']\n",
    "\n",
    "cnf_matrix = confusion_matrix(y_test, y_prediction, labels=classes)\n",
    "plot_confusion_matrix(cnf_matrix, labels=class_names)"
   ]
  },
  {
   "cell_type": "markdown",
   "metadata": {},
   "source": [
    "### Experiment: Making Decisions\n",
    "\n",
    "Now, let's take a look at decision boundaries. As we mentioned in both lecture and lab, label predictions (eg. $\\hat{y} = +1$) are made by considering the class probabilities $P(y = +1 \\mid x)$ produced by our model with a decision threshold. Typically, we use a threshold of 0.5 such that $\\hat{y} = +1$ if $P(y = +1 \\mid x) > 0.5$. However, as we hinted in [Problem 3](#Problem-3), there are situations and contexts in which the cost of making a _false positive_ error is greater than making a _false negative_ error. We can account for cost differences by adjusting the threshold, and therefore the decision boundary, of our classifier.\n",
    "\n",
    "In the following few cells, we will prepare an experiment to test and observe the effects of changing the decision threshold of our classification model."
   ]
  },
  {
   "cell_type": "markdown",
   "metadata": {},
   "source": [
    "### Problem 5\n",
    "\n",
    "The first thing we will need to prepare is a way to compute the predictions of a model given a threshold. This is because `sklearn` does not offer an option to do this.\n",
    "\n",
    "**Try this!** Complete the `make_predictions` function so that it computes the predicted labels `y_pred` for data `X_test` with a given `model` and decision `threshold`. `HINT` You may find the `model.predict_proba` method and [this StackOverflow thread](https://stackoverflow.com/questions/30820962/splitting-columns-of-a-numpy-array-easily) to be helpful."
   ]
  },
  {
   "cell_type": "code",
   "execution_count": 306,
   "metadata": {},
   "outputs": [
    {
     "data": {
      "text/plain": [
       "array([0., 1., 1., 1., 1., 1., 0., 1., 1., 1., 1., 1., 0., 1., 0., 1., 1.,\n",
       "       1., 1., 1., 0., 0., 1., 1., 1., 1., 1., 1., 1., 0., 1., 1., 1., 1.,\n",
       "       1., 0., 1., 1., 0., 0., 1., 1., 0., 1., 1., 1., 0., 0., 0., 1., 0.,\n",
       "       0., 1., 0., 1., 1., 1., 1., 0., 1., 1., 1., 0., 1., 1., 1., 1., 0.,\n",
       "       0., 1., 1., 1., 0., 1., 1., 1., 1., 0., 1., 1., 0., 1., 0., 0., 1.,\n",
       "       0., 1., 1., 0., 0., 1., 0., 1., 1., 1., 0., 1., 1., 1., 0., 0., 1.,\n",
       "       1., 1., 0., 1., 0., 1., 0., 1., 1., 0., 1., 1., 0., 1., 0., 1., 0.,\n",
       "       1., 1., 0., 0., 1., 0., 0., 1., 1., 1., 1., 1., 0., 0., 0., 0., 1.,\n",
       "       0., 0., 0., 0., 0., 0., 0., 1., 1., 1., 1., 1., 1., 1., 1., 1., 1.,\n",
       "       1., 0., 1., 1., 1., 0., 1., 1., 0., 1., 1., 1., 1., 1., 1., 1., 1.,\n",
       "       0.])"
      ]
     },
     "execution_count": 306,
     "metadata": {},
     "output_type": "execute_result"
    }
   ],
   "source": [
    "def make_predictions(model, X_test, threshold=0.5):\n",
    "    '''\n",
    "    Computes the predicted labels for points in X_TEST using a given MODEL and THRESHOLD\n",
    "    '''\n",
    "    \n",
    "    # your code here\n",
    "    \n",
    "    N = X_test.shape[0]\n",
    "    y_pred = np.ones(N)\n",
    "    p = model.predict_proba(X_test)\n",
    "    x, y = p.T\n",
    "    y_pred[x<=threshold] = 1\n",
    "    y_pred[x>threshold] = 0\n",
    "    \n",
    "    assert isinstance(y_pred, np.ndarray), 'Labels should be returned as a NumPy array'\n",
    "    assert y_pred.shape[0] == N, 'There should be the same number of labels as their are points in X'\n",
    "    return y_pred\n",
    "make_predictions(model, X_test)"
   ]
  },
  {
   "cell_type": "code",
   "execution_count": null,
   "metadata": {},
   "outputs": [],
   "source": []
  },
  {
   "cell_type": "markdown",
   "metadata": {},
   "source": [
    "### Problem 6\n",
    "\n",
    "Next, we will combine all of the things we have done in earlier problems into a single function that produces a confusion matrix plot by fitting and evaluating new Logisitic Regression models with varying thresholds. Note that there will be some redundancy/inefficiency in this function because it repeatedly recomputes the same values, but it is okay as it simplifies the code.\n",
    "\n",
    "**Try this!** Complete the `boundary_experiment` function so that it does the following:\n",
    "1. Creates a train/test split with `train_test_split` with a `test_size` of 0.3, stratification by `y` with `stratify`, and a `random_state` of 11.\n",
    "2. Creates a new `LogisticRegression` model with the `'liblinear'` `solver` and `fit` it with the training set.\n",
    "3. Makes predictions `y_pred` for test set points using `make_predictions` and `threshold`.\n",
    "4. Computes a confusion matrix and then plots it using `plot_confusion_matrix`.\n",
    "\n",
    "`HINT` Feel free to refer to any official documentation and remember that you can easily view the documentation for a function or object by adding a `?` after its name (eg. `plot_confusion_matrix?`)."
   ]
  },
  {
   "cell_type": "code",
   "execution_count": 307,
   "metadata": {},
   "outputs": [],
   "source": [
    "def boundary_experiment(X, y, threshold=0.5):\n",
    "    \n",
    "    # your code here\n",
    "    X_train2, X_test2, y_train2, y_test2 = train_test_split(X, y, test_size=0.3, stratify=y, random_state=11)\n",
    "    model2 = LogisticRegression(solver='liblinear')\n",
    "    model2.fit(X_train2, y_train2)\n",
    "    classes = [+1, -1]\n",
    "    class_names = ['malignant (+1)', 'benign (-1)']\n",
    "    y_prediction = make_predictions(model2, X_test2, threshold)\n",
    "    cnf_matrix = confusion_matrix(y_test2, y_prediction)\n",
    "    plot_confusion_matrix(cnf_matrix, class_names)\n",
    "    \n"
   ]
  },
  {
   "cell_type": "markdown",
   "metadata": {},
   "source": [
    "### Problem 7\n",
    "\n",
    "In the following cell, we will experiment with how changing the decision boundary (threshold) affects the confusion matrix using the functions that you implemented earlier. In order to make the visualization work you will need to install an additional package, `ipywidgets`.\n",
    "\n",
    "Use `conda install -c conda-forge ipywidgets` to install it and/or see [this article](https://ipywidgets.readthedocs.io/en/stable/user_install.html) for more detailed instructions.\n",
    "\n",
    "**Try this!** Evaluate the following cell and experiment with the slider."
   ]
  },
  {
   "cell_type": "code",
   "execution_count": 308,
   "metadata": {},
   "outputs": [
    {
     "data": {
      "application/vnd.jupyter.widget-view+json": {
       "model_id": "668fe94f6ed347cd9d3a368012b6d820",
       "version_major": 2,
       "version_minor": 0
      },
      "text/plain": [
       "interactive(children=(FloatSlider(value=0.5, description='threshold', max=1.0, step=0.05), Output()), _dom_cla…"
      ]
     },
     "metadata": {},
     "output_type": "display_data"
    }
   ],
   "source": [
    "from ipywidgets import interactive, fixed\n",
    "\n",
    "interactive(boundary_experiment, X=fixed(X), y=fixed(y), threshold=(0, 1, 0.05))"
   ]
  },
  {
   "cell_type": "markdown",
   "metadata": {},
   "source": [
    "**Write-up!** How does changing the threshold affect the confusion matrix (eg. correct classifications and errors)? At which threshold value, if any, can we eliminate false positive errors? At which threshold, if any, can we eliminate false negative errors? In each case, explain whether or not we would want to do so?"
   ]
  },
  {
   "cell_type": "raw",
   "metadata": {},
   "source": [
    "# your response here\n",
    "When the threshold is increased, the rate of false negatives increses and the rate of false positives decreases. When the threshold is decreased, the rate of false negatives decreases and the rate of false positives increases.  We can eliminate false positive errors at a threshold of 0.7 and we can eliminate false negative errors at the threshold of 0. \n",
    "We would want to eliminate false positive errors at the 0.7 threshold, but because this threshold raises the rate of false negatives (which are worse), we would NOT want to do this. We would want to eliminate false negative errors (because these are very dangerous, as explained above), but to completely eliminate them, we would have to make our threshold 0, which essentially categorizes all tumors as malignant, which defeats the purpose of the analysis. "
   ]
  },
  {
   "cell_type": "markdown",
   "metadata": {},
   "source": [
    "## 2. An Explainable Classifier: Decision Trees\n",
    "\n",
    "With the rapid development and advancement in artificial intelligence (AI) technologies, including the machine learning that we use in this class, there is an increasing concern over the ethics of AI. There are often situations where AI is used and in which it is critically important to be sure that a model is both reliable and correct. For many models, it is often difficult to explain why they produce the results that they do. These concerns have led to much debate and the advent of the [Explainable AI (XAI)](https://en.wikipedia.org/wiki/Explainable_Artificial_Intelligence) movement. The goal of XAI is to promote the development of AI whose actions and decisions can be easily understood by humans. Though not originally designed with XAI in mind, decision trees have increasingly become the focus of attention within this movement.\n",
    "\n",
    "In the following section, we will introduce and explore, though not to great depths, what decision trees are and how they can be used as explainable classification models. We will later use this model to explore model complexity."
   ]
  },
  {
   "cell_type": "markdown",
   "metadata": {},
   "source": [
    "### How Do They Work?\n",
    "\n",
    "Intuitively, a decision tree classifier tries to determine the class of a data point by making a series of \"tests\". Consider the following diagram of a decision tree that attempts to predict whether it will rain:\n",
    "\n",
    "![dtree](utility/pics/decision-tree.png)\n",
    "\n",
    "— [Source](https://prateekvjoshi.com/2016/03/22/how-are-decision-trees-constructed-in-machine-learning/)\n",
    "\n",
    "At each level (or depth), a feature of the data is examined and and a decision is made. The outcomes of that decision are represented as branches of the tree. In the tree above, the first feature that is examined is temperature, and if the temperature is greater 70 degrees we will do one thing and if it is less than 70, we will do another thing.\n",
    "\n",
    "What makes decision trees explainable is that we, as humans, can read off and follow exactly how the decision tree came to it's conclusion."
   ]
  },
  {
   "cell_type": "markdown",
   "metadata": {},
   "source": [
    "### Building Decision Trees\n",
    "\n",
    "We will not discuss how decision trees are built in this course. Instead, we will opt to do do that for you. The following cell contains a function that takes a training set and produces a fit decision tree classification model.\n",
    "\n",
    "The main thing to know about decision trees is that their complexity is directly determined by their depth. As we mentioned before, each level of depth in the tree is another set of decisions that the model can make. By increasing the depth of the tree, we increase the complexity of the model."
   ]
  },
  {
   "cell_type": "code",
   "execution_count": 309,
   "metadata": {},
   "outputs": [],
   "source": [
    "from sklearn.tree import DecisionTreeClassifier\n",
    "\n",
    "def make_decision_tree(X_train, y_train, depth=None):\n",
    "    return DecisionTreeClassifier(max_depth=depth, random_state=4).fit(X_train, y_train)"
   ]
  },
  {
   "cell_type": "markdown",
   "metadata": {},
   "source": [
    "Let's try to build a decision tree to classify breast cancer tumors. We will reuse the training and testing sets we made earlier."
   ]
  },
  {
   "cell_type": "code",
   "execution_count": 310,
   "metadata": {},
   "outputs": [],
   "source": [
    "model = make_decision_tree(X_train, y_train)"
   ]
  },
  {
   "cell_type": "code",
   "execution_count": 311,
   "metadata": {},
   "outputs": [
    {
     "data": {
      "text/plain": [
       "DecisionTreeClassifier(class_weight=None, criterion='gini', max_depth=None,\n",
       "            max_features=None, max_leaf_nodes=None,\n",
       "            min_impurity_decrease=0.0, min_impurity_split=None,\n",
       "            min_samples_leaf=1, min_samples_split=2,\n",
       "            min_weight_fraction_leaf=0.0, presort=False, random_state=4,\n",
       "            splitter='best')"
      ]
     },
     "execution_count": 311,
     "metadata": {},
     "output_type": "execute_result"
    }
   ],
   "source": [
    "model\n",
    "#depth = 6\n",
    "#.0232"
   ]
  },
  {
   "cell_type": "markdown",
   "metadata": {},
   "source": [
    "### Visualizing the Decision Tree\n",
    "\n",
    "Again, the selling point of decision trees is that they are readily interpretable. Let's take a look at what our model looks like."
   ]
  },
  {
   "cell_type": "markdown",
   "metadata": {},
   "source": [
    "### Problem 8\n",
    "\n",
    "The following cell produces text and encodes what the tree looks like. We will use a online tool called [Viz.js](http://viz-js.com/) to visualize the results.\n",
    "\n",
    "**Try this!** Run the following cell and copy/paste the outputs in to [Viz.js](http://viz-js.com/). Then clear the outputs of the cell."
   ]
  },
  {
   "cell_type": "code",
   "execution_count": 312,
   "metadata": {},
   "outputs": [
    {
     "name": "stdout",
     "output_type": "stream",
     "text": [
      "digraph Tree {\n",
      "node [shape=box, style=\"filled, rounded\", color=\"black\", fontname=helvetica] ;\n",
      "edge [fontname=helvetica] ;\n",
      "0 [label=\"worst perimeter <= 105.95\\nsamples = 398\\nvalue = [148, 250]\\nclass = benign\", fillcolor=\"#399de568\"] ;\n",
      "1 [label=\"worst concave points <= 0.158\\nsamples = 239\\nvalue = [9, 230]\\nclass = benign\", fillcolor=\"#399de5f5\"] ;\n",
      "0 -> 1 [labeldistance=2.5, labelangle=45, headlabel=\"True\"] ;\n",
      "2 [label=\"area error <= 91.555\\nsamples = 231\\nvalue = [3, 228]\\nclass = benign\", fillcolor=\"#399de5fc\"] ;\n",
      "1 -> 2 ;\n",
      "3 [label=\"worst smoothness <= 0.191\\nsamples = 230\\nvalue = [2, 228]\\nclass = benign\", fillcolor=\"#399de5fd\"] ;\n",
      "2 -> 3 ;\n",
      "4 [label=\"mean fractal dimension <= 0.054\\nsamples = 228\\nvalue = [1, 227]\\nclass = benign\", fillcolor=\"#399de5fe\"] ;\n",
      "3 -> 4 ;\n",
      "5 [label=\"mean smoothness <= 0.086\\nsamples = 6\\nvalue = [1, 5]\\nclass = benign\", fillcolor=\"#399de5cc\"] ;\n",
      "4 -> 5 ;\n",
      "6 [label=\"samples = 5\\nvalue = [0, 5]\\nclass = benign\", fillcolor=\"#399de5ff\"] ;\n",
      "5 -> 6 ;\n",
      "7 [label=\"samples = 1\\nvalue = [1, 0]\\nclass = malignant\", fillcolor=\"#e58139ff\"] ;\n",
      "5 -> 7 ;\n",
      "8 [label=\"samples = 222\\nvalue = [0, 222]\\nclass = benign\", fillcolor=\"#399de5ff\"] ;\n",
      "4 -> 8 ;\n",
      "9 [label=\"perimeter error <= 1.804\\nsamples = 2\\nvalue = [1, 1]\\nclass = malignant\", fillcolor=\"#e5813900\"] ;\n",
      "3 -> 9 ;\n",
      "10 [label=\"samples = 1\\nvalue = [0, 1]\\nclass = benign\", fillcolor=\"#399de5ff\"] ;\n",
      "9 -> 10 ;\n",
      "11 [label=\"samples = 1\\nvalue = [1, 0]\\nclass = malignant\", fillcolor=\"#e58139ff\"] ;\n",
      "9 -> 11 ;\n",
      "12 [label=\"samples = 1\\nvalue = [1, 0]\\nclass = malignant\", fillcolor=\"#e58139ff\"] ;\n",
      "2 -> 12 ;\n",
      "13 [label=\"worst texture <= 23.47\\nsamples = 8\\nvalue = [6, 2]\\nclass = malignant\", fillcolor=\"#e58139aa\"] ;\n",
      "1 -> 13 ;\n",
      "14 [label=\"samples = 2\\nvalue = [0, 2]\\nclass = benign\", fillcolor=\"#399de5ff\"] ;\n",
      "13 -> 14 ;\n",
      "15 [label=\"samples = 6\\nvalue = [6, 0]\\nclass = malignant\", fillcolor=\"#e58139ff\"] ;\n",
      "13 -> 15 ;\n",
      "16 [label=\"mean concave points <= 0.05\\nsamples = 159\\nvalue = [139, 20]\\nclass = malignant\", fillcolor=\"#e58139da\"] ;\n",
      "0 -> 16 [labeldistance=2.5, labelangle=-45, headlabel=\"False\"] ;\n",
      "17 [label=\"concave points error <= 0.01\\nsamples = 23\\nvalue = [9, 14]\\nclass = benign\", fillcolor=\"#399de55b\"] ;\n",
      "16 -> 17 ;\n",
      "18 [label=\"mean texture <= 15.17\\nsamples = 13\\nvalue = [9, 4]\\nclass = malignant\", fillcolor=\"#e581398e\"] ;\n",
      "17 -> 18 ;\n",
      "19 [label=\"samples = 3\\nvalue = [0, 3]\\nclass = benign\", fillcolor=\"#399de5ff\"] ;\n",
      "18 -> 19 ;\n",
      "20 [label=\"concavity error <= 0.032\\nsamples = 10\\nvalue = [9, 1]\\nclass = malignant\", fillcolor=\"#e58139e3\"] ;\n",
      "18 -> 20 ;\n",
      "21 [label=\"samples = 9\\nvalue = [9, 0]\\nclass = malignant\", fillcolor=\"#e58139ff\"] ;\n",
      "20 -> 21 ;\n",
      "22 [label=\"samples = 1\\nvalue = [0, 1]\\nclass = benign\", fillcolor=\"#399de5ff\"] ;\n",
      "20 -> 22 ;\n",
      "23 [label=\"samples = 10\\nvalue = [0, 10]\\nclass = benign\", fillcolor=\"#399de5ff\"] ;\n",
      "17 -> 23 ;\n",
      "24 [label=\"mean texture <= 14.12\\nsamples = 136\\nvalue = [130, 6]\\nclass = malignant\", fillcolor=\"#e58139f3\"] ;\n",
      "16 -> 24 ;\n",
      "25 [label=\"worst perimeter <= 119.65\\nsamples = 4\\nvalue = [1, 3]\\nclass = benign\", fillcolor=\"#399de5aa\"] ;\n",
      "24 -> 25 ;\n",
      "26 [label=\"samples = 3\\nvalue = [0, 3]\\nclass = benign\", fillcolor=\"#399de5ff\"] ;\n",
      "25 -> 26 ;\n",
      "27 [label=\"samples = 1\\nvalue = [1, 0]\\nclass = malignant\", fillcolor=\"#e58139ff\"] ;\n",
      "25 -> 27 ;\n",
      "28 [label=\"worst concavity <= 0.189\\nsamples = 132\\nvalue = [129, 3]\\nclass = malignant\", fillcolor=\"#e58139f9\"] ;\n",
      "24 -> 28 ;\n",
      "29 [label=\"samples = 1\\nvalue = [0, 1]\\nclass = benign\", fillcolor=\"#399de5ff\"] ;\n",
      "28 -> 29 ;\n",
      "30 [label=\"fractal dimension error <= 0.013\\nsamples = 131\\nvalue = [129, 2]\\nclass = malignant\", fillcolor=\"#e58139fb\"] ;\n",
      "28 -> 30 ;\n",
      "31 [label=\"area error <= 22.11\\nsamples = 130\\nvalue = [129, 1]\\nclass = malignant\", fillcolor=\"#e58139fd\"] ;\n",
      "30 -> 31 ;\n",
      "32 [label=\"area error <= 20.205\\nsamples = 4\\nvalue = [3, 1]\\nclass = malignant\", fillcolor=\"#e58139aa\"] ;\n",
      "31 -> 32 ;\n",
      "33 [label=\"samples = 3\\nvalue = [3, 0]\\nclass = malignant\", fillcolor=\"#e58139ff\"] ;\n",
      "32 -> 33 ;\n",
      "34 [label=\"samples = 1\\nvalue = [0, 1]\\nclass = benign\", fillcolor=\"#399de5ff\"] ;\n",
      "32 -> 34 ;\n",
      "35 [label=\"samples = 126\\nvalue = [126, 0]\\nclass = malignant\", fillcolor=\"#e58139ff\"] ;\n",
      "31 -> 35 ;\n",
      "36 [label=\"samples = 1\\nvalue = [0, 1]\\nclass = benign\", fillcolor=\"#399de5ff\"] ;\n",
      "30 -> 36 ;\n",
      "}\n"
     ]
    }
   ],
   "source": [
    "from sklearn.tree import export_graphviz\n",
    "\n",
    "encoding = export_graphviz(model, impurity=False, filled=True, rounded=True,\n",
    "                           feature_names=data.feature_names,\n",
    "                           class_names=data.target_names)\n",
    "print(encoding)"
   ]
  },
  {
   "cell_type": "markdown",
   "metadata": {},
   "source": [
    "**Write-up!** What was the maximum depth of the decision tree?"
   ]
  },
  {
   "cell_type": "raw",
   "metadata": {},
   "source": [
    "# your response here\n",
    "The maximum depth is 7."
   ]
  },
  {
   "cell_type": "markdown",
   "metadata": {},
   "source": [
    "## 3. Model Selection\n",
    "In the lecture we saw that higher-order polynomials can give us more complex models. Typically increasing model complexity can help improving the performance. However, only to a certain extent. At some point you start to overfit and the performance on a held-out test set will start to decrease again. For decision trees model complexity increases with the depth of the trees used. It is pretty easy to see that by using a sufficient number of splits, you can classify the entire training set correctly. That is classic _overfitting_. \n",
    "\n",
    "### Problem 9\n",
    "Compute the training and validation error of the decision tree classifier for all depths from `1` to `10` and plot both curves in one figure.   "
   ]
  },
  {
   "cell_type": "code",
   "execution_count": 313,
   "metadata": {},
   "outputs": [
    {
     "data": {
      "image/png": "[encoded data removed]",
      "text/plain": [
       "<Figure size 1152x648 with 1 Axes>"
      ]
     },
     "metadata": {
      "needs_background": "light"
     },
     "output_type": "display_data"
    }
   ],
   "source": [
    "from sklearn.tree import DecisionTreeClassifier\n",
    "\n",
    "X_train, X_rest, y_train, y_rest = train_test_split(X, y, test_size=0.3, stratify=y, random_state=10)\n",
    "X_val, X_test, y_val, y_test = train_test_split(X_rest, y_rest, test_size=0.5, stratify=y_rest, random_state=10)\n",
    "\n",
    "\n",
    "# your code here\n",
    "import matplotlib.pyplot as plt\n",
    "from utility.util import configure_plots\n",
    "\n",
    "\n",
    "\n",
    "trainModelError = [];\n",
    "valModelError = [];\n",
    "depthArray = [1, 2, 3, 4, 5, 6, 7, 8, 9, 10];\n",
    "\n",
    "for i in range(1, 11):\n",
    "    model = make_decision_tree(X_train, y_train, depth=i)\n",
    "    trainModelError.append(1 - model.score(X_train, y_train))\n",
    "    valModelError.append(1 - model.score(X_val, y_val))\n",
    "\n",
    "    \n",
    "configure_plots()\n",
    "\n",
    "ax1 = plt.plot(depthArray, trainModelError, label=\"Training Error\")\n",
    "#[y==1, 0], trainModelError[y==1, 1]\n",
    "ax2 = plt.plot(depthArray, valModelError, label=\"Validation Error\")\n",
    "#[y==-1, 0], valModelError[y==-1, 1]\n",
    "plt.xlabel(\"Depth\")\n",
    "plt.ylabel(\"Error (raw value)\")\n",
    "plt.title(\"Graph of Data\")\n",
    "plt.legend()\n",
    "plt.show()"
   ]
  },
  {
   "cell_type": "markdown",
   "metadata": {},
   "source": [
    "**Write-up!** Which model (which depths) would you choose and why? "
   ]
  },
  {
   "cell_type": "raw",
   "metadata": {},
   "source": [
    "# your response here\n",
    "Answer:\n",
    "I would use a depth of 6.\n",
    "\n",
    "Explanation:\n",
    "At a depth of 6, the validation error is lowest and training error is also low. For 7, 8, 9, and 10, the validation error rises, so I would not want to use those. Additionally, depths 1-4 all have higher values for both validation and training error, so those are all not as accurate as a model with a depth of 5."
   ]
  },
  {
   "cell_type": "markdown",
   "metadata": {},
   "source": [
    "### Problem 10 \n",
    "Evaluate the model you selected above by computing the test error. Print the test error. \n",
    "> Hint: You will have to retrain your model. "
   ]
  },
  {
   "cell_type": "code",
   "execution_count": 302,
   "metadata": {},
   "outputs": [
    {
     "data": {
      "text/plain": [
       "'Error: 2.3256%'"
      ]
     },
     "execution_count": 302,
     "metadata": {},
     "output_type": "execute_result"
    }
   ],
   "source": [
    "# your code here\n",
    "selectedModel = make_decision_tree(X_train, y_train, depth=6)\n",
    "selectedModel.fit(X_train, y_train)\n",
    "\n",
    "#N = y_pred.shape[0]\n",
    "\n",
    "#for i in range(1, 11):\n",
    "#    model = make_decision_tree(X_train, y_train, depth=i)\n",
    "#    trainModelErrorPercents.append((1 - model.score(X_train, y_train))*100)\n",
    "#    valModelErrorPercents.append((1 - model.score(X_val, y_val))*100)\n",
    "\n",
    "\n",
    "#numCorrect = 0\n",
    "#for i in range(N):\n",
    "#    if y_pred[i] == y_test[i]:\n",
    "#       numCorrect += 1\n",
    "#result = numCorrect/N\n",
    "f'Error: {(1 - selectedModel.score(X_test, y_test)) * 100:0.5}%'"
   ]
  },
  {
   "cell_type": "code",
   "execution_count": null,
   "metadata": {},
   "outputs": [],
   "source": []
  }
 ],
 "metadata": {
  "kernelspec": {
   "display_name": "Python 3",
   "language": "python",
   "name": "python3"
  },
  "language_info": {
   "codemirror_mode": {
    "name": "ipython",
    "version": 3
   },
   "file_extension": ".py",
   "mimetype": "text/x-python",
   "name": "python",
   "nbconvert_exporter": "python",
   "pygments_lexer": "ipython3",
   "version": "3.7.1"
  }
 },
 "nbformat": 4,
 "nbformat_minor": 2
}
