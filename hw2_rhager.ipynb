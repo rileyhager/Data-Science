{
 "cells": [
  {
   "cell_type": "markdown",
   "metadata": {},
   "source": [
    "# Hw 2: More NumPy 📈"
   ]
  },
  {
   "cell_type": "markdown",
   "metadata": {},
   "source": [
    "Name: Riley Hager\n",
    "\n",
    "Student ID: rhager\n"
   ]
  },
  {
   "cell_type": "markdown",
   "metadata": {},
   "source": [
    "## Instructions\n",
    "\n",
    "Work your way through these problems. They are will provide some more practice for working with NumPy arrays.\n",
    "\n",
    "### Submission instructions\n",
    "* Submit this python notebook including your answers in the code cells as homework submission.\n",
    "* **Do not change the number of cells!** Your submission notebook should have exactly one code cell per problem. \n",
    "* Do **not** remove the `# your code here` line and add you solution after that line. "
   ]
  },
  {
   "cell_type": "markdown",
   "metadata": {},
   "source": [
    "## 1. Let's Get Started!"
   ]
  },
  {
   "cell_type": "code",
   "execution_count": 1,
   "metadata": {},
   "outputs": [],
   "source": [
    "# run me!\n",
    "import numpy as np"
   ]
  },
  {
   "cell_type": "markdown",
   "metadata": {},
   "source": [
    "## 2. Timing Comparison\n",
    "\n",
    "There were some questions about why we emphasize NumPy functions and indexing so intensely. To help explain and motivate this, let's do some performance comparisons."
   ]
  },
  {
   "cell_type": "markdown",
   "metadata": {},
   "source": [
    "For this experiment, we will be testing various operations with random arrays. Here is an example of how you can generate a random array using `np.random.rand`."
   ]
  },
  {
   "cell_type": "code",
   "execution_count": 2,
   "metadata": {},
   "outputs": [
    {
     "data": {
      "text/plain": [
       "array([0.56621448, 0.04253629, 0.02874651, 0.68793891, 0.12004592,\n",
       "       0.33842107, 0.82144161, 0.34007526, 0.06004973, 0.871457  ])"
      ]
     },
     "execution_count": 2,
     "metadata": {},
     "output_type": "execute_result"
    }
   ],
   "source": [
    "np.random.rand(10)"
   ]
  },
  {
   "cell_type": "markdown",
   "metadata": {},
   "source": [
    "### Problem 1\n",
    "**Implement this!** Complete the function below so that it returns a random array of size `n`. Assign your new array to the `result` variable."
   ]
  },
  {
   "cell_type": "code",
   "execution_count": 3,
   "metadata": {},
   "outputs": [],
   "source": [
    "def generate_random_array(n):\n",
    "    '''Returns a random array of a given shape.'''\n",
    "    \n",
    "    # your code here\n",
    "    result = np.random.rand(n)\n",
    "    return result"
   ]
  },
  {
   "cell_type": "markdown",
   "metadata": {},
   "source": [
    "Let's try it out! You should see an array similar to the one from earlier."
   ]
  },
  {
   "cell_type": "code",
   "execution_count": 4,
   "metadata": {},
   "outputs": [
    {
     "data": {
      "text/plain": [
       "array([0.33821796, 0.19235371, 0.30387634, 0.05601109, 0.1213902 ,\n",
       "       0.30458489, 0.06956751, 0.57644071, 0.73416271, 0.5104259 ])"
      ]
     },
     "execution_count": 4,
     "metadata": {},
     "output_type": "execute_result"
    }
   ],
   "source": [
    "generate_random_array(10)"
   ]
  },
  {
   "cell_type": "markdown",
   "metadata": {},
   "source": [
    "### 2.1 Summing Arrays\n",
    "\n",
    "Let's try a sum operation. There are two ways of computing the sum of an array using built-in features. The first is to use a `for` loop and iterate through the values in an array. The second is to use the `sum` function."
   ]
  },
  {
   "cell_type": "markdown",
   "metadata": {},
   "source": [
    "### Problem 2\n",
    "\n",
    "**Implement this!** Complete the function below so that it returns the sum of an array `a`. Again, assign your result to the `result` variable."
   ]
  },
  {
   "cell_type": "code",
   "execution_count": 5,
   "metadata": {},
   "outputs": [],
   "source": [
    "def loop_sum(a):\n",
    "    '''Computes the sum of array A'''\n",
    "    \n",
    "    # your code here\n",
    "    result = 0\n",
    "    for i in a:\n",
    "      result += i\n",
    "    return result"
   ]
  },
  {
   "cell_type": "markdown",
   "metadata": {},
   "source": [
    "Let's check that your function works."
   ]
  },
  {
   "cell_type": "code",
   "execution_count": 6,
   "metadata": {},
   "outputs": [
    {
     "data": {
      "text/plain": [
       "'Nice!'"
      ]
     },
     "execution_count": 6,
     "metadata": {},
     "output_type": "execute_result"
    }
   ],
   "source": [
    "an_array = generate_random_array(100)\n",
    "\n",
    "'Nice!' if loop_sum(an_array) == sum(an_array) else 'Something went wrong...'"
   ]
  },
  {
   "cell_type": "markdown",
   "metadata": {},
   "source": [
    "### Problem 3\n",
    "\n",
    "Now that we have a working `for` loop sum implementation, `loop_sum`, let's compare its performance to both the Python built-in `sum` function and the NumPy `np.sum` function. We will use an [IPython magic command 🧙‍♀️](https://ipython.readthedocs.io/en/stable/interactive/tutorial.html#magic-functions) (I'm not kidding) called `%timeit`. This function will run a given command repeatedly and report back the mean runtime and standard deviation."
   ]
  },
  {
   "cell_type": "code",
   "execution_count": 7,
   "metadata": {},
   "outputs": [
    {
     "name": "stdout",
     "output_type": "stream",
     "text": [
      "1.49 ms ± 38.1 µs per loop (mean ± std. dev. of 7 runs, 1000 loops each)\n",
      "1.22 ms ± 61.4 µs per loop (mean ± std. dev. of 7 runs, 1000 loops each)\n",
      "8.99 µs ± 1.42 µs per loop (mean ± std. dev. of 7 runs, 100000 loops each)\n"
     ]
    }
   ],
   "source": [
    "another_array = generate_random_array(10000)\n",
    "%timeit loop_sum(another_array)\n",
    "%timeit sum(another_array)\n",
    "%timeit np.sum(another_array)"
   ]
  },
  {
   "cell_type": "markdown",
   "metadata": {},
   "source": [
    "**Write up!** What do you notice about these outputs? What would happen if you added more dimensions to your array? What do these results tell us?"
   ]
  },
  {
   "cell_type": "raw",
   "metadata": {},
   "source": [
    "# your response here\n",
    "It is significantly faster (by a factor of about 125/2) to calculate the sum of an array by using np.sum as opposed to the regular \"sum\" method or the method using a for loop. Each dimension added would increase the calculation by another order of n, the amount of elements in each dimension of the array. These results tell us the relative speed of each method used to find the sum of an array."
   ]
  },
  {
   "cell_type": "markdown",
   "metadata": {},
   "source": [
    "### 2.2 Finding a Value\n",
    "\n",
    "In Lab 0 and HW 1, we needed to find the age and class of the student from a roster who would graduate first. Let's use this set up to do another comparison. Here is the data that we worked with."
   ]
  },
  {
   "cell_type": "code",
   "execution_count": 8,
   "metadata": {},
   "outputs": [],
   "source": [
    "names = ['Billy','Meghan','Jeff', 'Alex','Cate']\n",
    "roster = np.array([\n",
    "    [50, 2021],\n",
    "    [18, 2020],\n",
    "    [21, 2019],\n",
    "    [21, 2021],\n",
    "    [21, 2020]\n",
    "])"
   ]
  },
  {
   "cell_type": "markdown",
   "metadata": {},
   "source": [
    "In Problem 7 from HW 1, we used the Python built-in `min` function with a lambda to accomplish this for a `List` version of the roster. What would happen if we had used the same method to do the same for a NumPy array?"
   ]
  },
  {
   "cell_type": "code",
   "execution_count": 9,
   "metadata": {},
   "outputs": [
    {
     "data": {
      "text/plain": [
       "array([  21, 2019])"
      ]
     },
     "execution_count": 9,
     "metadata": {},
     "output_type": "execute_result"
    }
   ],
   "source": [
    "min(roster, key=lambda student: student[1])"
   ]
  },
  {
   "cell_type": "markdown",
   "metadata": {},
   "source": [
    "An appropriate NumPy equivalent of the code is this:"
   ]
  },
  {
   "cell_type": "code",
   "execution_count": 10,
   "metadata": {},
   "outputs": [
    {
     "data": {
      "text/plain": [
       "array([  21, 2019])"
      ]
     },
     "execution_count": 10,
     "metadata": {},
     "output_type": "execute_result"
    }
   ],
   "source": [
    "roster[np.argmin(roster[:, 1])]"
   ]
  },
  {
   "cell_type": "markdown",
   "metadata": {},
   "source": [
    "### Problem 4\n",
    "\n",
    "Before we check out the performance of each of these implementations, let's expand our roster a bit. The following cell, generates a new roster with entries for 1000 students."
   ]
  },
  {
   "cell_type": "code",
   "execution_count": 11,
   "metadata": {},
   "outputs": [],
   "source": [
    "roster = np.array([np.random.randint(16, 100, size=1000),\n",
    "                   np.random.randint(2018, 2022, size=1000)]).T"
   ]
  },
  {
   "cell_type": "markdown",
   "metadata": {},
   "source": [
    "Here's a preview of the new roster containing the first ten rows in the array:"
   ]
  },
  {
   "cell_type": "code",
   "execution_count": 12,
   "metadata": {},
   "outputs": [
    {
     "data": {
      "text/plain": [
       "array([[  29, 2020],\n",
       "       [  48, 2018],\n",
       "       [  70, 2018],\n",
       "       [  19, 2018],\n",
       "       [  77, 2020],\n",
       "       [  42, 2021],\n",
       "       [  32, 2018],\n",
       "       [  19, 2019],\n",
       "       [  62, 2019],\n",
       "       [  19, 2020]])"
      ]
     },
     "execution_count": 12,
     "metadata": {},
     "output_type": "execute_result"
    }
   ],
   "source": [
    "roster[:10, :]"
   ]
  },
  {
   "cell_type": "markdown",
   "metadata": {},
   "source": [
    "Now we are ready to evaluate these implementations using the `%timeit` magic command from earlier. "
   ]
  },
  {
   "cell_type": "code",
   "execution_count": 13,
   "metadata": {},
   "outputs": [
    {
     "name": "stdout",
     "output_type": "stream",
     "text": [
      "529 µs ± 87.8 µs per loop (mean ± std. dev. of 7 runs, 1000 loops each)\n",
      "The slowest run took 5.08 times longer than the fastest. This could mean that an intermediate result is being cached.\n",
      "11.7 µs ± 4.73 µs per loop (mean ± std. dev. of 7 runs, 100000 loops each)\n"
     ]
    }
   ],
   "source": [
    "%timeit min(roster, key=lambda student: student[1])\n",
    "%timeit roster[np.argmin(roster[:, 1])]"
   ]
  },
  {
   "cell_type": "markdown",
   "metadata": {},
   "source": [
    "**Write up!** What do you notice about these outputs? What would happen if you added more dimensions to your array? What do these results tell us?"
   ]
  },
  {
   "cell_type": "raw",
   "metadata": {},
   "source": [
    "# your response here\n",
    "From the higher standard deviation (by a factor of close to 1000) one can see that there is much more variation in the first implementation (using the built-in min function) than there is in the NumPy implementation. "
   ]
  },
  {
   "cell_type": "markdown",
   "metadata": {},
   "source": [
    "## 3. Indexing Review\n",
    "\n",
    "Indexing, especially with NumPy, can be a tricky feature to truly wrap one's head around, but it the benefits of (working towards) mastering it make it a worthy endeavor. The more practice you get, the easier it will become — eventually you won't be able to even imagine how else you would do things.\n",
    "\n",
    "In this section, we will start with some review and then move on to more complex features."
   ]
  },
  {
   "cell_type": "markdown",
   "metadata": {},
   "source": [
    "### 3.1 Basic Indexing"
   ]
  },
  {
   "cell_type": "markdown",
   "metadata": {},
   "source": [
    "At the risk of belaboring this topic, let's quickly do some practicing. The following cell produces `yet_another_array` using the `arange` [(array range) NumPy function](https://docs.scipy.org/doc/numpy-1.15.0/reference/generated/numpy.arange.html), which we will use in the next few problems."
   ]
  },
  {
   "cell_type": "code",
   "execution_count": 14,
   "metadata": {},
   "outputs": [
    {
     "data": {
      "text/plain": [
       "array([0, 1, 2, 3, 4, 5, 6, 7, 8, 9])"
      ]
     },
     "execution_count": 14,
     "metadata": {},
     "output_type": "execute_result"
    }
   ],
   "source": [
    "yet_another_array = np.arange(10)\n",
    "yet_another_array"
   ]
  },
  {
   "cell_type": "markdown",
   "metadata": {},
   "source": [
    "### Problem 5\n",
    "\n",
    "**Implement this!** Retrieve the 4th element of `yet_another_array`."
   ]
  },
  {
   "cell_type": "code",
   "execution_count": 15,
   "metadata": {},
   "outputs": [
    {
     "data": {
      "text/plain": [
       "3"
      ]
     },
     "execution_count": 15,
     "metadata": {},
     "output_type": "execute_result"
    }
   ],
   "source": [
    "# your code here\n",
    "yet_another_array[3]"
   ]
  },
  {
   "cell_type": "markdown",
   "metadata": {},
   "source": [
    "### Problem 6\n",
    "\n",
    "Here's something new: specifically for NumPy arrays, you can also pass in a Python list or NumPy array of indicies to retrieve.\n",
    "\n",
    "For example, `some_array[[0, 2, 4, 6]]`.\n",
    "\n",
    "\n",
    "**Implement this!** Retrieve the 2nd, 5th, and 9th elements of `yet_another_array`."
   ]
  },
  {
   "cell_type": "code",
   "execution_count": 19,
   "metadata": {},
   "outputs": [
    {
     "data": {
      "text/plain": [
       "array([1, 4, 8])"
      ]
     },
     "execution_count": 19,
     "metadata": {},
     "output_type": "execute_result"
    }
   ],
   "source": [
    "# your code here\n",
    "index = [1, 4, 8]\n",
    "yet_another_array[index]"
   ]
  },
  {
   "cell_type": "markdown",
   "metadata": {},
   "source": [
    "### Problem 7"
   ]
  },
  {
   "cell_type": "markdown",
   "metadata": {},
   "source": [
    "Let's do this with a 2D array, too. Here we will generate `a_2d_array` using the `np.random.rand` function."
   ]
  },
  {
   "cell_type": "code",
   "execution_count": 20,
   "metadata": {},
   "outputs": [
    {
     "data": {
      "text/plain": [
       "array([[0.56754086, 0.5099704 , 0.96914677, 0.39276426, 0.10802423],\n",
       "       [0.95095915, 0.60158841, 0.55307174, 0.9720697 , 0.26290719],\n",
       "       [0.65667373, 0.61580384, 0.82029209, 0.6463334 , 0.23058473],\n",
       "       [0.10846001, 0.25015906, 0.93812701, 0.45591671, 0.85277474],\n",
       "       [0.77582225, 0.89822228, 0.03083841, 0.75859204, 0.24514656]])"
      ]
     },
     "execution_count": 20,
     "metadata": {},
     "output_type": "execute_result"
    }
   ],
   "source": [
    "a_2d_array = np.random.rand(5, 5)\n",
    "a_2d_array"
   ]
  },
  {
   "cell_type": "markdown",
   "metadata": {},
   "source": [
    "Remember that you can index into a 2D array like this: `another_2D_array[row, column]`, where `row` and `column` are indicies, slices, `:`s, or some mix of these three."
   ]
  },
  {
   "cell_type": "markdown",
   "metadata": {},
   "source": [
    "**Implement this!** Retrieve the value at position (3, 4) from `a_2d_array`."
   ]
  },
  {
   "cell_type": "code",
   "execution_count": 21,
   "metadata": {},
   "outputs": [
    {
     "data": {
      "text/plain": [
       "0.8527747374898264"
      ]
     },
     "execution_count": 21,
     "metadata": {},
     "output_type": "execute_result"
    }
   ],
   "source": [
    "# your code here\n",
    "a_2d_array[3, 4] #i am assuming that position(3, 4) was meant literally (instead of requesting the 3rd row and 4th column, which would be indexed with [2, 3])."
   ]
  },
  {
   "cell_type": "markdown",
   "metadata": {},
   "source": [
    "### 3.2 Slice Indexing\n",
    "\n",
    "You've already gotten familiar with slices, but here is some more practice."
   ]
  },
  {
   "cell_type": "markdown",
   "metadata": {},
   "source": [
    "### Problem 8\n",
    "\n",
    "**Implement this!** Retrieve the 6th, 7th, and 8th elements of `yet_another_array`."
   ]
  },
  {
   "cell_type": "code",
   "execution_count": 23,
   "metadata": {},
   "outputs": [
    {
     "data": {
      "text/plain": [
       "array([6, 7, 8])"
      ]
     },
     "execution_count": 23,
     "metadata": {},
     "output_type": "execute_result"
    }
   ],
   "source": [
    "# your code here\n",
    "yet_another_array[6:9]"
   ]
  },
  {
   "cell_type": "markdown",
   "metadata": {},
   "source": [
    "### Problem 9"
   ]
  },
  {
   "cell_type": "markdown",
   "metadata": {},
   "source": [
    "Again, we can do this with a 2D array, too. Here is a reminder of what `a_2d_array` looks like."
   ]
  },
  {
   "cell_type": "code",
   "execution_count": 24,
   "metadata": {},
   "outputs": [
    {
     "data": {
      "text/plain": [
       "array([[0.56754086, 0.5099704 , 0.96914677, 0.39276426, 0.10802423],\n",
       "       [0.95095915, 0.60158841, 0.55307174, 0.9720697 , 0.26290719],\n",
       "       [0.65667373, 0.61580384, 0.82029209, 0.6463334 , 0.23058473],\n",
       "       [0.10846001, 0.25015906, 0.93812701, 0.45591671, 0.85277474],\n",
       "       [0.77582225, 0.89822228, 0.03083841, 0.75859204, 0.24514656]])"
      ]
     },
     "execution_count": 24,
     "metadata": {},
     "output_type": "execute_result"
    }
   ],
   "source": [
    "a_2d_array"
   ]
  },
  {
   "cell_type": "markdown",
   "metadata": {},
   "source": [
    "**Implement this!** Retrieve the values in the 3rd column of `a_2d_array`."
   ]
  },
  {
   "cell_type": "code",
   "execution_count": 25,
   "metadata": {},
   "outputs": [
    {
     "data": {
      "text/plain": [
       "array([0.96914677, 0.55307174, 0.82029209, 0.93812701, 0.03083841])"
      ]
     },
     "execution_count": 25,
     "metadata": {},
     "output_type": "execute_result"
    }
   ],
   "source": [
    "# your code here\n",
    "a_2d_array[:,2]"
   ]
  },
  {
   "cell_type": "markdown",
   "metadata": {},
   "source": [
    "### 3.3 Logical Indexing\n",
    "\n",
    "Now for something complete new! You might be interested in finding all of the values in an array that fulfills some condition like _get all values greater than 5_. NumPy enables this be supporting [**logical indexing**](https://docs.scipy.org/doc/numpy-1.13.0/user/basics.indexing.html#boolean-or-mask-index-arrays).\n",
    "\n",
    "This idea is also referred to as **masking**. You can use an array of boolean values _of the same shape_ as the target array as the \"index\" into the target array. This will return all of the values that are in the same position as the `True` values from the boolean arrays. These logical arrays are called \"masks\" because they are analogous to masks, which let some of the underlying surface show through but hide the rest."
   ]
  },
  {
   "cell_type": "markdown",
   "metadata": {},
   "source": [
    "Let's try making our first logical array. In the cell below, we use a comparison operation on `yet_another_array`, returning an array of the same size with `True` in the positions where the values meet the condition."
   ]
  },
  {
   "cell_type": "code",
   "execution_count": 26,
   "metadata": {},
   "outputs": [
    {
     "data": {
      "text/plain": [
       "array([False, False, False, False, False, False,  True,  True,  True,\n",
       "        True])"
      ]
     },
     "execution_count": 26,
     "metadata": {},
     "output_type": "execute_result"
    }
   ],
   "source": [
    "yet_another_array > 5"
   ]
  },
  {
   "cell_type": "markdown",
   "metadata": {},
   "source": [
    "Now let's see how this array \"lines up\" with `yet_another_array`."
   ]
  },
  {
   "cell_type": "code",
   "execution_count": 27,
   "metadata": {},
   "outputs": [
    {
     "data": {
      "text/plain": [
       "array([0, 1, 2, 3, 4, 5, 6, 7, 8, 9])"
      ]
     },
     "execution_count": 27,
     "metadata": {},
     "output_type": "execute_result"
    }
   ],
   "source": [
    "yet_another_array"
   ]
  },
  {
   "cell_type": "markdown",
   "metadata": {},
   "source": [
    "Here is another example using an array that is not sorted already."
   ]
  },
  {
   "cell_type": "code",
   "execution_count": 28,
   "metadata": {},
   "outputs": [
    {
     "data": {
      "text/plain": [
       "array([7, 6, 3, 0, 1, 2, 9, 8, 5, 4])"
      ]
     },
     "execution_count": 28,
     "metadata": {},
     "output_type": "execute_result"
    }
   ],
   "source": [
    "shuffled_array = np.random.permutation(yet_another_array)\n",
    "shuffled_array"
   ]
  },
  {
   "cell_type": "code",
   "execution_count": 29,
   "metadata": {},
   "outputs": [
    {
     "data": {
      "text/plain": [
       "array([ True,  True, False, False, False, False,  True,  True, False,\n",
       "       False])"
      ]
     },
     "execution_count": 29,
     "metadata": {},
     "output_type": "execute_result"
    }
   ],
   "source": [
    "shuffled_array > 5"
   ]
  },
  {
   "cell_type": "markdown",
   "metadata": {},
   "source": [
    "Is this what you would expect? Let's actually get those values."
   ]
  },
  {
   "cell_type": "code",
   "execution_count": 30,
   "metadata": {},
   "outputs": [
    {
     "data": {
      "text/plain": [
       "array([7, 6, 9, 8])"
      ]
     },
     "execution_count": 30,
     "metadata": {},
     "output_type": "execute_result"
    }
   ],
   "source": [
    "shuffled_array[shuffled_array > 5]"
   ]
  },
  {
   "cell_type": "markdown",
   "metadata": {},
   "source": [
    "### Problem 10\n",
    "\n",
    "**Implement this!** Retrieve the elements of `yet_another_array` that are even (hint: `%`)."
   ]
  },
  {
   "cell_type": "code",
   "execution_count": 32,
   "metadata": {},
   "outputs": [
    {
     "data": {
      "text/plain": [
       "array([0, 2, 4, 6, 8])"
      ]
     },
     "execution_count": 32,
     "metadata": {},
     "output_type": "execute_result"
    }
   ],
   "source": [
    "# your code here\n",
    "yet_another_array[yet_another_array%2 == 0]"
   ]
  },
  {
   "cell_type": "markdown",
   "metadata": {},
   "source": [
    "And that's it!"
   ]
  }
 ],
 "metadata": {
  "kernelspec": {
   "display_name": "Python 3",
   "language": "python",
   "name": "python3"
  },
  "language_info": {
   "codemirror_mode": {
    "name": "ipython",
    "version": 3
   },
   "file_extension": ".py",
   "mimetype": "text/x-python",
   "name": "python",
   "nbconvert_exporter": "python",
   "pygments_lexer": "ipython3",
   "version": "3.7.1"
  }
 },
 "nbformat": 4,
 "nbformat_minor": 2
}
